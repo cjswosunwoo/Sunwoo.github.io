{
 "cells": [
  {
   "cell_type": "markdown",
   "metadata": {},
   "source": [
    "# Introduction to Information Theory\n",
    "## 1.1 Random Variables\n",
    "\n",
    "discrete random variable: X\n",
    "probability distribution: $P_x(x)$\n",
    "\n",
    "expectation value $Ef=\\sum\\limits_{x \\in\\chi}^n P_x(x)f(x)$\n",
    "\n",
    "continuous random variable\n",
    "$dP_x(x)$ : probability measure for an infinitesimal element\n",
    "\n",
    "The total probability $P(X\\in\\alpha)$ that the variable X takes value in some(measurable) set $\\alpha\\in\\chi$ is given by the integral\n",
    "$P(X\\in\\alpha) = \\int\\limits_{x\\in\\alpha} dP_x(x)=\\int I(x\\in\\alpha)dp_x(x)$\n",
    "\n",
    "indication function $I(s)$: defined to be equal to 1 if the statement s is true, and equal to 0 if the statement is false\n",
    "\n",
    "$Ef(x)=\\int f(x)dp_x(x)$\n",
    "\n",
    "$Var f(x)=E[f(x)^2]-[Ef(x)]^2$"
   ]
  },
  {
   "cell_type": "markdown",
   "metadata": {},
   "source": [
    "## 1.2 Entropy\n"
   ]
  },
  {
   "cell_type": "markdown",
   "metadata": {},
   "source": []
  },
  {
   "cell_type": "code",
   "execution_count": null,
   "metadata": {},
   "outputs": [],
   "source": []
  }
 ],
 "metadata": {
  "kernelspec": {
   "display_name": "Python 3 (ipykernel)",
   "language": "python",
   "name": "python3"
  },
  "language_info": {
   "codemirror_mode": {
    "name": "ipython",
    "version": 3
   },
   "file_extension": ".py",
   "mimetype": "text/x-python",
   "name": "python",
   "nbconvert_exporter": "python",
   "pygments_lexer": "ipython3",
   "version": "3.9.7"
  }
 },
 "nbformat": 4,
 "nbformat_minor": 2
}
